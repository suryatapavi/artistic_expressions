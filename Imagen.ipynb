{
 "cells": [
  {
   "cell_type": "markdown",
   "id": "1bb9b1b7-47b7-4549-9018-f8fe23b283ff",
   "metadata": {},
   "source": [
    "https://github.com/lucidrains/imagen-pytorch"
   ]
  },
  {
   "cell_type": "markdown",
   "id": "495ee69f-92d2-42e1-8c06-fe826ca1fa13",
   "metadata": {},
   "source": []
  },
  {
   "cell_type": "code",
   "execution_count": null,
   "id": "ba521087-c310-4f96-ab8c-da62b8594336",
   "metadata": {},
   "outputs": [],
   "source": []
  },
  {
   "cell_type": "code",
   "execution_count": null,
   "id": "d3a00ba6-9550-40ee-a05e-6c8620aa644b",
   "metadata": {},
   "outputs": [],
   "source": []
  },
  {
   "cell_type": "code",
   "execution_count": null,
   "id": "c7c4f541-cedb-42c8-b6b7-8b60153ed2fa",
   "metadata": {},
   "outputs": [],
   "source": []
  },
  {
   "cell_type": "code",
   "execution_count": null,
   "id": "60195905-21dd-40df-b724-46d4354957b7",
   "metadata": {},
   "outputs": [],
   "source": []
  },
  {
   "cell_type": "code",
   "execution_count": null,
   "id": "9527bab1-8d0e-474c-9209-6ba6a750b275",
   "metadata": {},
   "outputs": [],
   "source": []
  },
  {
   "cell_type": "code",
   "execution_count": null,
   "id": "959f6efa-db60-4582-a273-e3d295a8c03f",
   "metadata": {},
   "outputs": [],
   "source": []
  },
  {
   "cell_type": "code",
   "execution_count": null,
   "id": "bec7e3c4-4bf1-4f8c-abc4-152de683dda4",
   "metadata": {},
   "outputs": [],
   "source": []
  },
  {
   "cell_type": "code",
   "execution_count": null,
   "id": "30c81953-1225-4a0e-8b1b-d22467c3b97d",
   "metadata": {},
   "outputs": [],
   "source": []
  },
  {
   "cell_type": "code",
   "execution_count": null,
   "id": "fcd0b584-d350-48d5-9639-c733a102bf7c",
   "metadata": {},
   "outputs": [],
   "source": []
  },
  {
   "cell_type": "code",
   "execution_count": null,
   "id": "951c2c47-111a-4eda-a15b-4a8aabd3497b",
   "metadata": {},
   "outputs": [],
   "source": []
  },
  {
   "cell_type": "code",
   "execution_count": null,
   "id": "4cfb0478-3cca-47e3-9dcd-7f1305f58c45",
   "metadata": {},
   "outputs": [],
   "source": []
  },
  {
   "cell_type": "code",
   "execution_count": null,
   "id": "73384cde-a471-4a4f-85d1-11fe3fb5a435",
   "metadata": {},
   "outputs": [],
   "source": []
  },
  {
   "cell_type": "code",
   "execution_count": null,
   "id": "6652604b-f15e-4c4f-9747-85b7b047270f",
   "metadata": {},
   "outputs": [],
   "source": []
  },
  {
   "cell_type": "code",
   "execution_count": null,
   "id": "2462ac96-f6b0-459f-b748-6899df29c586",
   "metadata": {},
   "outputs": [],
   "source": []
  },
  {
   "cell_type": "markdown",
   "id": "c6c32777-299b-470c-aaec-be55c9b5534f",
   "metadata": {},
   "source": [
    "VERTEX AI:\n",
    "https://cloud.google.com/vertex-ai/docs/generative-ai/image/overview"
   ]
  },
  {
   "cell_type": "code",
   "execution_count": null,
   "id": "0e2b33c2-9b36-4be7-a34d-eccc552002d3",
   "metadata": {},
   "outputs": [],
   "source": []
  }
 ],
 "metadata": {
  "kernelspec": {
   "display_name": "Python 3 (ipykernel)",
   "language": "python",
   "name": "python3"
  },
  "language_info": {
   "codemirror_mode": {
    "name": "ipython",
    "version": 3
   },
   "file_extension": ".py",
   "mimetype": "text/x-python",
   "name": "python",
   "nbconvert_exporter": "python",
   "pygments_lexer": "ipython3",
   "version": "3.9.18"
  }
 },
 "nbformat": 4,
 "nbformat_minor": 5
}
