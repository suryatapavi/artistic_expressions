{
 "cells": [
  {
   "cell_type": "code",
   "execution_count": null,
   "id": "1ae068f0-36c6-4097-a2b3-50e2549dd8d6",
   "metadata": {},
   "outputs": [],
   "source": [
    "https://www.youtube.com/watch?v=ReO6vqJxg-s"
   ]
  },
  {
   "cell_type": "code",
   "execution_count": null,
   "id": "60ff7443-5285-4ae6-8b87-d06a811a29ca",
   "metadata": {},
   "outputs": [],
   "source": [
    "https://colab.research.google.com/drive/1J95Nsn1Bc-6eY8igLsUCWbb89qfFi9yJ?usp=sharing#scrollTo=Ofo3pwLTAkGt"
   ]
  },
  {
   "cell_type": "code",
   "execution_count": null,
   "id": "f47423bf-bb9c-418a-9632-2075b5b5bd2e",
   "metadata": {},
   "outputs": [],
   "source": [
    "https://ngwaifoong92.medium.com/how-to-fine-tune-stable-diffusion-using-lora-85690292c6a8\n"
   ]
  },
  {
   "cell_type": "code",
   "execution_count": null,
   "id": "9f5137b3-9d03-4ce8-9afe-bed8cd1fd2d5",
   "metadata": {},
   "outputs": [],
   "source": [
    "https://towardsdatascience.com/how-to-fine-tune-stable-diffusion-using-dreambooth-dfa6694524ae"
   ]
  }
 ],
 "metadata": {
  "kernelspec": {
   "display_name": "Python 3 (ipykernel)",
   "language": "python",
   "name": "python3"
  },
  "language_info": {
   "codemirror_mode": {
    "name": "ipython",
    "version": 3
   },
   "file_extension": ".py",
   "mimetype": "text/x-python",
   "name": "python",
   "nbconvert_exporter": "python",
   "pygments_lexer": "ipython3",
   "version": "3.9.18"
  }
 },
 "nbformat": 4,
 "nbformat_minor": 5
}
